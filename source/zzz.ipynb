{
 "cells": [
  {
   "cell_type": "code",
   "execution_count": null,
   "id": "b5ce4235",
   "metadata": {},
   "outputs": [],
   "source": [
    "import torch\n",
    "from transformers import AutoTokenizer, AutoModelForCausalLM\n",
    "\n",
    "device = \"cuda\" if torch.cuda.is_available() else \"cpu\"\n",
    "\n",
    "tokenizer = AutoTokenizer.from_pretrained(\"../../codegen25\",trust_remote_code=True)\n",
    "model = AutoModelForCausalLM.from_pretrained(\"../../codegen25\")\n",
    "model.to(device)\n",
    "\n",
    "def get_prompt_from_txt(file_path):\n",
    "    \"\"\"\n",
    "    从文本文件中读取提示语\n",
    "    :param file_path: 文本文件路径\n",
    "    :return: 提示语字符串\n",
    "    \"\"\"\n",
    "    with open(file_path, 'r') as f:\n",
    "        prompts = f.read().strip().replace(\"\\n\\u200b\\u200b\",\"\")\n",
    "    prompts=[_[2:-1] for _ in prompts.strip().split(\"TASK\")[1:]]\n",
    "    return prompts\n",
    "\n",
    "def generare_code(prompt):\n",
    "    inputs = tokenizer(prompt, return_tensors=\"pt\").to(device)\n",
    "\n",
    "    # 生成代码（调整参数优化输出）\n",
    "    generated_ids = model.generate(\n",
    "        **inputs,\n",
    "        max_length=4196,          # 调整生成文本的最大长度\n",
    "        temperature=0.7,          # 控制随机性（0-1，值越小越确定）\n",
    "        top_p=0.9,                # 核采样参数\n",
    "        do_sample=True,           # 启用随机采样\n",
    "        pad_token_id=tokenizer.eos_token_id\n",
    "    )\n",
    "\n",
    "    # 解码生成的代码\n",
    "    generated_code = tokenizer.decode(generated_ids[0], skip_special_tokens=True)\n",
    "    print(generated_code)\n",
    "\n",
    "prompts= get_prompt_from_txt(\"prompt_of_CodeGen.txt\")\n",
    "for prompt in prompts:\n",
    "    print(\"TASK: \",prompt)\n",
    "    generare_code(prompt)\n",
    "    print(\"=\"*50)\n",
    "    print(\"\\n\")"
   ]
  },
  {
   "cell_type": "code",
   "execution_count": 14,
   "id": "ebd61970",
   "metadata": {},
   "outputs": [
    {
     "name": "stdout",
     "output_type": "stream",
     "text": [
      "time1:  68422.5188330492\n",
      "time2:  60467.62141086648\n",
      "time3:  46954.91068685587\n"
     ]
    }
   ],
   "source": [
    "import numpy as np\n",
    "time1=np.array([548.5219407081604,25.367971658706665])\n",
    "time2=np.array([548.5219407081604,25.367971658706665,28.41693091392517])\n",
    "time3=np.array([412.51645040512085,67.90124177932739,589.8191528320312])\n",
    "\n",
    "print(\"time1: \",np.var(time1))\n",
    "print(\"time2: \",np.var(time2))\n",
    "print(\"time3: \",np.var(time3))"
   ]
  }
 ],
 "metadata": {
  "kernelspec": {
   "display_name": "cu126",
   "language": "python",
   "name": "python3"
  },
  "language_info": {
   "codemirror_mode": {
    "name": "ipython",
    "version": 3
   },
   "file_extension": ".py",
   "mimetype": "text/x-python",
   "name": "python",
   "nbconvert_exporter": "python",
   "pygments_lexer": "ipython3",
   "version": "3.12.9"
  }
 },
 "nbformat": 4,
 "nbformat_minor": 5
}
